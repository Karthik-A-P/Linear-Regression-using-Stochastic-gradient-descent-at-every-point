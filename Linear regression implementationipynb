{
  "nbformat": 4,
  "nbformat_minor": 0,
  "metadata": {
    "colab": {
      "provenance": []
    },
    "kernelspec": {
      "name": "python3",
      "display_name": "Python 3"
    },
    "language_info": {
      "name": "python"
    }
  },
  "cells": [
    {
      "cell_type": "code",
      "source": [
        "import numpy as np\n",
        "import pandas as pd"
      ],
      "metadata": {
        "id": "KfEl6MSY0o7F"
      },
      "execution_count": 1,
      "outputs": []
    },
    {
      "cell_type": "code",
      "source": [
        "\n",
        "def lin_reg(df,epochs,target,lr = 0.001):\n",
        "  w_s = len(df.columns)\n",
        "  w = np.random.rand(w_s)\n",
        "  b = 0\n",
        "  E = []\n",
        "  for k in range(epochs):\n",
        "    error = 0\n",
        "    for i in range(len(df)):\n",
        "      gd = np.dot(w,df.iloc[i])\n",
        "      gd = target[i] - gd\n",
        "      error += gd*gd\n",
        "      E.append(error)\n",
        "      for j in range(w_s):\n",
        "        w[j] = w[j] + gd * df.iloc[i, j] * lr # Corrected indexing and added learning rate\n",
        "    print('Error = ' , error, ' at epoch = ', k+1)\n",
        "    plt.plot(list(range(len(E))),E)"
      ],
      "metadata": {
        "id": "V2RA-fPYkBID"
      },
      "execution_count": 2,
      "outputs": []
    }
  ]
}
